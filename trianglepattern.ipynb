{
 "cells": [
  {
   "cell_type": "code",
   "execution_count": 1,
   "id": "c9708808-a545-4cf6-b544-9c9f4740d52e",
   "metadata": {},
   "outputs": [],
   "source": [
    "#creating triangles with patterns"
   ]
  },
  {
   "cell_type": "code",
   "execution_count": 2,
   "id": "0eb13d57-ef1b-43a3-aa54-e0c5f1673a11",
   "metadata": {},
   "outputs": [
    {
     "name": "stdout",
     "output_type": "stream",
     "text": [
      "*\n",
      "**\n",
      "***\n",
      "****\n",
      "*****\n"
     ]
    }
   ],
   "source": [
    "# Right-angled triangle pattern\n",
    "def right_angled_triangle(rows):\n",
    "    for i in range(1, rows + 1):\n",
    "        print('*' * i)\n",
    "\n",
    "# Test the function\n",
    "right_angled_triangle(5)\n"
   ]
  },
  {
   "cell_type": "code",
   "execution_count": 3,
   "id": "93693300-08b5-4c28-8686-6d488e293ffb",
   "metadata": {},
   "outputs": [
    {
     "name": "stdout",
     "output_type": "stream",
     "text": [
      "*****\n",
      "****\n",
      "***\n",
      "**\n",
      "*\n"
     ]
    }
   ],
   "source": [
    "# Inverted right-angled triangle pattern\n",
    "def inverted_right_angled_triangle(rows):\n",
    "    for i in range(rows, 0, -1):\n",
    "        print('*' * i)\n",
    "\n",
    "# Test the function\n",
    "inverted_right_angled_triangle(5)\n"
   ]
  },
  {
   "cell_type": "code",
   "execution_count": 4,
   "id": "74250816-13d0-4cee-a862-8fc2dacbaf95",
   "metadata": {},
   "outputs": [
    {
     "name": "stdout",
     "output_type": "stream",
     "text": [
      "*********\n",
      " *******\n",
      "  *****\n",
      "   ***\n",
      "    *\n"
     ]
    }
   ],
   "source": [
    "# Inverted equilateral triangle pattern\n",
    "def inverted_equilateral_triangle(rows):\n",
    "    for i in range(rows, 0, -1):\n",
    "        print(' ' * (rows - i) + '*' * (2 * i - 1))\n",
    "\n",
    "# Test the function\n",
    "inverted_equilateral_triangle(5)\n"
   ]
  },
  {
   "cell_type": "code",
   "execution_count": 5,
   "id": "fedeafa4-e41c-4fd2-9b7c-776ec001b7ee",
   "metadata": {},
   "outputs": [
    {
     "name": "stdout",
     "output_type": "stream",
     "text": [
      "    *\n",
      "   ***\n",
      "  *****\n",
      " *******\n",
      "*********\n"
     ]
    }
   ],
   "source": [
    "# Equilateral triangle pattern\n",
    "def equilateral_triangle(rows):\n",
    "    for i in range(1, rows + 1):\n",
    "        print(' ' * (rows - i) + '*' * (2 * i - 1))\n",
    "\n",
    "# Test the function\n",
    "equilateral_triangle(5)\n"
   ]
  },
  {
   "cell_type": "code",
   "execution_count": 6,
   "id": "bbb38b5c-5e36-4c15-b4fc-dc5663a65bb5",
   "metadata": {},
   "outputs": [],
   "source": [
    "# creating pascal's triangle pattern"
   ]
  },
  {
   "cell_type": "code",
   "execution_count": 7,
   "id": "369b2236-d477-4ed1-bd13-1f4b557aeed7",
   "metadata": {},
   "outputs": [
    {
     "name": "stdout",
     "output_type": "stream",
     "text": [
      "    1\n",
      "   1 1\n",
      "  1 2 1\n",
      " 1 3 3 1\n",
      "1 4 6 4 1\n"
     ]
    }
   ],
   "source": [
    "# Pascal's Triangle pattern\n",
    "def pascals_triangle(rows):\n",
    "    triangle = []\n",
    "    for row in range(rows):\n",
    "        new_row = [1]\n",
    "        if row > 0:\n",
    "            for col in range(1, row):\n",
    "                new_row.append(triangle[row-1][col-1] + triangle[row-1][col])\n",
    "            new_row.append(1)\n",
    "        triangle.append(new_row)\n",
    "        \n",
    "    for row in triangle:\n",
    "        print(' ' * (rows - len(row)) + ' '.join(map(str, row)))\n",
    "\n",
    "# Test the function\n",
    "pascals_triangle(5)\n"
   ]
  },
  {
   "cell_type": "code",
   "execution_count": null,
   "id": "200d8429-8680-44d7-81e8-c1d5c8b52847",
   "metadata": {},
   "outputs": [],
   "source": []
  }
 ],
 "metadata": {
  "kernelspec": {
   "display_name": "Python 3 (ipykernel)",
   "language": "python",
   "name": "python3"
  },
  "language_info": {
   "codemirror_mode": {
    "name": "ipython",
    "version": 3
   },
   "file_extension": ".py",
   "mimetype": "text/x-python",
   "name": "python",
   "nbconvert_exporter": "python",
   "pygments_lexer": "ipython3",
   "version": "3.11.7"
  }
 },
 "nbformat": 4,
 "nbformat_minor": 5
}
